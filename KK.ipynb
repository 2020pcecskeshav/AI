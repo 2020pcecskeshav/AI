{
 "cells": [
  {
   "cell_type": "markdown",
   "metadata": {},
   "source": []
  },
  {
   "cell_type": "code",
   "execution_count": 7,
   "metadata": {},
   "outputs": [
    {
     "name": "stdout",
     "output_type": "stream",
     "text": [
      "register\n",
      "attendence\n",
      "clear all data \n"
     ]
    }
   ],
   "source": [
    "import tkinter as ttk\n",
    "from tkinter import font\n",
    "app=ttk.Tk()\n",
    "app.title('Attendence system')\n",
    "app.geometry('400x400')\n",
    "font_=font.Font(size=20)\n",
    "\n",
    "ttk.Label(\n",
    "    app,\n",
    "    text='face recofnigition system',\n",
    "    font=font_\n",
    ").pack()\n",
    "\n",
    "def register():\n",
    "    print('register')\n",
    "def attendence():\n",
    "    print('attendence') \n",
    "def clear_data():\n",
    "    print('clear all data ')\n",
    "ttk.Button(app, text='Register',command=register,font=font_).pack()\n",
    "ttk.Button(app, text='Attendence',command=attendence,font=font_).pack()\n",
    "ttk.Button(app, text='clear data',command=clear_data,font=font_).pack()\n",
    "\n",
    "app.mainloop()\n"
   ]
  },
  {
   "cell_type": "code",
   "execution_count": null,
   "metadata": {},
   "outputs": [],
   "source": []
  },
  {
   "cell_type": "code",
   "execution_count": null,
   "metadata": {},
   "outputs": [],
   "source": []
  },
  {
   "cell_type": "code",
   "execution_count": null,
   "metadata": {},
   "outputs": [],
   "source": []
  }
 ],
 "metadata": {
  "kernelspec": {
   "display_name": "Python 3",
   "language": "python",
   "name": "python3"
  },
  "language_info": {
   "codemirror_mode": {
    "name": "ipython",
    "version": 3
   },
   "file_extension": ".py",
   "mimetype": "text/x-python",
   "name": "python",
   "nbconvert_exporter": "python",
   "pygments_lexer": "ipython3",
   "version": "3.11.4"
  },
  "orig_nbformat": 4
 },
 "nbformat": 4,
 "nbformat_minor": 2
}
